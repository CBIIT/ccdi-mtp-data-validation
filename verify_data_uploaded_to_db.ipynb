{
 "cells": [
  {
   "cell_type": "markdown",
   "id": "093752a4-246c-4d01-9e7d-23520dc6aacb",
   "metadata": {},
   "source": [
    "# Verify the data completeness in Opensearch and clickhouse\n",
    "\n",
    "**General idea for verifying data completeness on Opensearch**\n",
    "\n",
    "\n",
    "Each line of record in a json file is a document in the opensearch. Based on that consumption, we can count the number of records in index's data files (json files), match it with document stored in the opensearch.\n",
    "\n",
    "\n",
    "\n",
    "**General idea for verifying data completeness on Clickhouse**\n",
    "\n",
    "ot.associations_otf_log\n",
    "\n"
   ]
  },
  {
   "cell_type": "code",
   "execution_count": null,
   "id": "9c7c3cc3-d4aa-472b-9ada-e44dbca381c8",
   "metadata": {},
   "outputs": [],
   "source": []
  }
 ],
 "metadata": {
  "kernelspec": {
   "display_name": "Python 3 (ipykernel)",
   "language": "python",
   "name": "python3"
  },
  "language_info": {
   "codemirror_mode": {
    "name": "ipython",
    "version": 3
   },
   "file_extension": ".py",
   "mimetype": "text/x-python",
   "name": "python",
   "nbconvert_exporter": "python",
   "pygments_lexer": "ipython3",
   "version": "3.10.8"
  }
 },
 "nbformat": 4,
 "nbformat_minor": 5
}
