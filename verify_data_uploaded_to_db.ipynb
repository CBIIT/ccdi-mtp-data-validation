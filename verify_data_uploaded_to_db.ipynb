{
 "cells": [
  {
   "cell_type": "markdown",
   "id": "093752a4-246c-4d01-9e7d-23520dc6aacb",
   "metadata": {},
   "source": [
    "# Verify the data completeness in Opensearch and clickhouse\n",
    "\n",
    "**General idea for verifying data completeness on Opensearch**\n",
    "\n",
    "\n",
    "Each line of record in a json file is a document in the opensearch. Based on that consumption, we can count the number of records in index's data files (json files), match it with document stored in the opensearch.\n",
    "\n",
    "\n",
    "\n",
    "**General idea for verifying data completeness on Clickhouse**\n",
    "\n",
    "ot.associations_otf_log\n",
    "\n"
   ]
  },
  {
   "cell_type": "markdown",
   "id": "21ec9bc1-ca2f-4f55-8855-b0b63a714d5f",
   "metadata": {},
   "source": [
    "``` console\n",
    "addr = `pwd`\n",
    "b=(`ls `)\n",
    "\n",
    "for a in ${b[*]}; do\n",
    "    echo $a >> ls3.txt\n",
    "    find $addr$a  -name *.json |xargs   wc -l  | awk '{sum+=$1}END{print sum}' >> ls3.txt\n",
    "done\n",
    "\n",
    "```"
   ]
  },
  {
   "cell_type": "code",
   "execution_count": null,
   "id": "b4545b79-c3f8-4799-9ed9-1bb78da6b41e",
   "metadata": {},
   "outputs": [],
   "source": []
  }
 ],
 "metadata": {
  "kernelspec": {
   "display_name": "Python 3 (ipykernel)",
   "language": "python",
   "name": "python3"
  },
  "language_info": {
   "codemirror_mode": {
    "name": "ipython",
    "version": 3
   },
   "file_extension": ".py",
   "mimetype": "text/x-python",
   "name": "python",
   "nbconvert_exporter": "python",
   "pygments_lexer": "ipython3",
   "version": "3.10.8"
  }
 },
 "nbformat": 4,
 "nbformat_minor": 5
}
