{
 "cells": [
  {
   "cell_type": "markdown",
   "id": "093752a4-246c-4d01-9e7d-23520dc6aacb",
   "metadata": {},
   "source": [
    "# Verify the data completeness in Opensearch and clickhouse\n",
    "\n",
    "\n",
    "This data validation step is to make sure the data loaded into our database does not miss any data due to any interuption(internet).  \n",
    "\n",
    "\n",
    "\n",
    "### General idea for verifying data completeness on Opensearch\n",
    "\n",
    "\n",
    "Each line of record in a json file is a document in the opensearch. Based on that consumption, we can count the number of records in index's data files (json files), match it with document stored in the opensearch.\n",
    "\n",
    "\n",
    "\n",
    "###  General idea for verifying data completeness on Clickhouse**\n",
    "\n",
    "There are three tables that imports data from OT's data files. \n",
    "\n",
    "\n",
    "**Table: ot.associations_otf_log**\n",
    "\n",
    "source:/output/etl/json/AOTFClickhouse/ \n",
    "\n",
    "\n",
    "**Table:ot.ml_w2v_log**\n",
    "\n",
    "source: /output/literature/vectors/ \n",
    "\n",
    "\n",
    "**Table: ot.literature_log**\n",
    "\n",
    "source: /output/literature/literatureIndex/ \n",
    "\n",
    "Same as Opensearch, we can count the number of records in the files to learn how many data should in the the clickhouse. "
   ]
  },
  {
   "cell_type": "markdown",
   "id": "3e2d8def-a3f1-4cf2-99fd-52eb967e72e4",
   "metadata": {},
   "source": [
    "---"
   ]
  },
  {
   "cell_type": "markdown",
   "id": "61285061-32f7-4692-acf2-14e66f6e7ffb",
   "metadata": {},
   "source": [
    "### Get number of records in files (bash)"
   ]
  },
  {
   "cell_type": "markdown",
   "id": "21ec9bc1-ca2f-4f55-8855-b0b63a714d5f",
   "metadata": {},
   "source": [
    "``` console\n",
    "addr = `pwd`\n",
    "b=(`ls `)\n",
    "\n",
    "for a in ${b[*]}; do\n",
    "    echo $a >> ls3.txt\n",
    "    find $addr$a  -name *.json |xargs   wc -l  | awk '{sum+=$1}END{print sum}' >> ls3.txt\n",
    "done\n",
    "\n",
    "```"
   ]
  },
  {
   "cell_type": "markdown",
   "id": "f07036dc-4581-4f25-94df-20010e808d27",
   "metadata": {},
   "source": [
    "### Get number of documents of each index "
   ]
  },
  {
   "cell_type": "code",
   "execution_count": 39,
   "id": "4042703e-8968-43f9-a5a5-bfa121faa78f",
   "metadata": {},
   "outputs": [
    {
     "name": "stdout",
     "output_type": "stream",
     "text": [
      "AOTFClickhouse is not a index \n",
      "28793026 is not a index \n",
      "AOTFElasticsearch is not a index \n",
      "28793026 is not a index \n",
      "associationByDatasourceDirect is not a index \n",
      "4575220 is not a index \n",
      "associationByDatasourceIndirect is not a index \n",
      "17593772 is not a index \n",
      "associationByDatatypeDirect is not a index \n",
      "4518996 is not a index \n",
      "associationByDatatypeIndirect is not a index \n",
      "16838788 is not a index \n",
      "associationByOverallDirect is not a index \n",
      "4306778 is not a index \n",
      "associationByOverallIndirect is not a index \n",
      "14164356 is not a index \n",
      "baselineExpression is not a index \n",
      "87582 is not a index \n",
      "diseaseToPhenotype is not a index \n",
      "288268 is not a index \n",
      "diseases is not a index \n",
      "41862 is not a index \n",
      "drugWarnings is not a index \n",
      "1293 is not a index \n",
      "ebisearchAssociations is not a index \n",
      "4309490 is not a index \n",
      "ebisearchEvidence is not a index \n",
      "1564662 is not a index \n",
      "evidence is not a index \n",
      "28716516 is not a index \n",
      "fda is not a index \n",
      "10521236 is not a index \n",
      "go not same as \n",
      "hpo not same as \n",
      "indication not same as \n",
      "interaction not same as \n",
      "interactionEvidence is not a index \n",
      "45081552 is not a index \n",
      "knownDrugsAggregated is not a index \n",
      "520902 is not a index \n",
      "mechanismOfAction is not a index \n",
      "13220 is not a index \n",
      "molecule is not a index \n",
      "25708 is not a index \n",
      "mousePhenotypes is not a index \n",
      "186956 is not a index \n",
      "reactome not same as \n",
      "searchDisease is not a index \n",
      "41862 is not a index \n",
      "searchDrug is not a index \n",
      "25708 is not a index \n",
      "searchTarget is not a index \n",
      "123960 is not a index \n",
      "targets is not a index \n",
      "123776 is not a index \n",
      "done\n"
     ]
    }
   ],
   "source": [
    "import requests\n",
    "\n",
    "API_End_Point = \"https://vpc-mtp-opensearch-dev-akmgxd5o76x3at6t7conzlciam.us-east-1.es.amazonaws.com/_cat/indices\"\n",
    "x = requests.get(API_End_Point)\n",
    "\n",
    "dic_opensearh_index = {}\n",
    "\n",
    "for i in range(0, len(x.text.split('\\n'))-1):\n",
    "    key = x.text.split('\\n')[i].split()[2].strip()\n",
    "    value = x.text.split('\\n')[i].split()[6].strip()\n",
    "    dic_opensearh_index[key] = value\n",
    "\n",
    "doc_count_file = \"/Users/cheny39/Documents/work/22.09/json/ls3.txt\"\n",
    "\n",
    "file = open(doc_count_file, 'r')\n",
    "line = file.readline()\n",
    "while line:\n",
    "    key = line.strip().replace(\"\\n\", \"\").strip()\n",
    "    if key in dic_opensearh_index:\n",
    "        number = file.readline()\n",
    "        if dic_opensearh_index[key] != number.replace(\"\\n\", \"\").strip():\n",
    "            print(\"[Error]\", key, \" has different number of doc \")   \n",
    "        else:\n",
    "             print(\"[Correct]\",key,\"has expected number of doc\") \n",
    "    else:\n",
    "        print(\"[Warning]\",key,\"is not a index \") \n",
    "    line = file.readline()\n",
    "print(\"done\")\n",
    "file.close()  "
   ]
  },
  {
   "cell_type": "code",
   "execution_count": null,
   "id": "5d527f4a-c415-41f0-995c-617c264b6949",
   "metadata": {},
   "outputs": [],
   "source": []
  }
 ],
 "metadata": {
  "kernelspec": {
   "display_name": "Python 3 (ipykernel)",
   "language": "python",
   "name": "python3"
  },
  "language_info": {
   "codemirror_mode": {
    "name": "ipython",
    "version": 3
   },
   "file_extension": ".py",
   "mimetype": "text/x-python",
   "name": "python",
   "nbconvert_exporter": "python",
   "pygments_lexer": "ipython3",
   "version": "3.10.8"
  }
 },
 "nbformat": 4,
 "nbformat_minor": 5
}
