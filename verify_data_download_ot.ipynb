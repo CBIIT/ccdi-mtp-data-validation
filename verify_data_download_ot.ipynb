{
 "cells": [
  {
   "cell_type": "markdown",
   "id": "af0f912e-e1af-4d54-8b05-b13e33be13b8",
   "metadata": {},
   "source": [
    "# Verify the completeness of downloaded files \n",
    "\n",
    "OT provides sha1 checksum for each file, we can use it to verify files on our end with the checksum provided by OT.\n",
    "\n",
    "**steps in general**\n",
    "\n",
    "1. Download files from OT FTP\n",
    "2. Create checksum of downladed files\n",
    "3. Download checksum file that OT provided\n",
    "4. Verify downloaded files' checksum with OT provided \n",
    "\n"
   ]
  },
  {
   "cell_type": "markdown",
   "id": "edca95c4-eb98-4965-a980-01942cea770c",
   "metadata": {},
   "source": [
    "------"
   ]
  },
  {
   "cell_type": "markdown",
   "id": "f0f7bec8-dd8d-483b-ae1d-734c53ecfea4",
   "metadata": {},
   "source": [
    "### Download OT files from FTP (Bash or Tools)\n",
    "\n",
    "URL: http://ftp.ebi.ac.uk/pub/databases/opentargets/platform/ \n",
    "\n",
    "We can use tool filezilla to download files to you local environment,or you can use wget to download files. "
   ]
  },
  {
   "cell_type": "markdown",
   "id": "aae48681-53fb-495f-bc25-f9dedf6114af",
   "metadata": {},
   "source": [
    "```console\n",
    "\n",
    "foo@bar:~$ for i in {1..30}; do wget  -e robots=off -rnp -c --recursive --no-parent -N --no-host-directories --cut-dirs 8 https://ftp.ebi.ac.uk/pub/databases/opentargets/platform/22.09/output/etl/json ; done\n",
    "```"
   ]
  },
  {
   "cell_type": "markdown",
   "id": "faee6e73-df3f-4985-967c-2651641eaa79",
   "metadata": {},
   "source": [
    "---\n",
    "\n"
   ]
  },
  {
   "cell_type": "markdown",
   "id": "502f5aa8-1b24-4b77-b058-46369bf8afbd",
   "metadata": {
    "tags": []
   },
   "source": [
    "### Create a checksum of downloaded files (Bash)\n",
    "\n",
    "\n",
    "We use bash to generate checksum of downloaded files, store the checksum in a file. "
   ]
  },
  {
   "cell_type": "markdown",
   "id": "acf4fe3e-aae4-4250-a966-771836e5643e",
   "metadata": {},
   "source": [
    "``` console\n",
    "find ./json -name *.json  -exec shasum \"{}\" + > downloaded.sha1\n",
    "\n",
    "```"
   ]
  },
  {
   "cell_type": "markdown",
   "id": "aca1e92c-7857-4336-a860-0573260a2391",
   "metadata": {},
   "source": [
    "---"
   ]
  },
  {
   "cell_type": "markdown",
   "id": "9c63bf3f-0400-42fb-b173-80b3490a2704",
   "metadata": {
    "tags": []
   },
   "source": [
    "### Get and edit OT's checksum (Bash)"
   ]
  },
  {
   "cell_type": "markdown",
   "id": "d959d5e8-01d8-4461-82b6-690c9acdccc8",
   "metadata": {},
   "source": [
    "OT's checksum document contains checksum for all input&output files, we only focus on the etl output files. \n",
    "Filter out the ones we do not care and save those to a seperate file. \n",
    "\n",
    "```console\n",
    "\n",
    "cat release_data_integrity.sha1 | sed -n '/.*output\\/etl\\/json\\/.*.json/p' >> updated_release_data_integrity.sha1\n",
    "\n",
    "\n",
    "```"
   ]
  },
  {
   "cell_type": "markdown",
   "id": "06006dd1-5564-4aae-9a59-c1ce40ae21db",
   "metadata": {},
   "source": [
    "---"
   ]
  },
  {
   "cell_type": "markdown",
   "id": "0bb2eb19-2519-43f8-9728-2ab3fc8afb5c",
   "metadata": {},
   "source": [
    "### Comparsion checksum (Python)\n"
   ]
  },
  {
   "cell_type": "code",
   "execution_count": 59,
   "id": "8aed40fa-58d8-418b-8b10-bb1f7c584073",
   "metadata": {},
   "outputs": [
    {
     "name": "stdout",
     "output_type": "stream",
     "text": [
      "0  of file(s) different with OT\n",
      "0  of file(s) missing from OT\n"
     ]
    }
   ],
   "source": [
    "\n",
    "OT_UPDATED_CHECKSUM_ADDR = \"/Users/cheny39/Documents/work/22.09/updated_release_data_integrity.sha1\"\n",
    "DOWNLOAD_FILE_CHECKSUM_ADDR = \"/Users/cheny39/Documents/work/22.09/downloaded.sha1\"\n",
    "\n",
    "dic_download ={}\n",
    "\n",
    "# create key/value pair in a dic for each check up. \n",
    "# key : file paht\n",
    "# value: checksum\n",
    "# root:  downloaded file's checksum\n",
    "\n",
    "\n",
    "download_checksum_file = open(DOWNLOAD_FILE_CHECKSUM_ADDR, 'r')\n",
    "download_checksum_file_lines = download_checksum_file.readlines()\n",
    "\n",
    "\n",
    "for line in download_checksum_file_lines:\n",
    "    array = line.split()\n",
    "    value = array[0].strip()\n",
    "    key = str(\"/\".join(array[1].split(\"/\")[-2:]))\n",
    "    dic_download[key]=value\n",
    "\n",
    "    \n",
    "#do the comparsion \n",
    "\n",
    "ot_checksum_file = open(OT_UPDATED_CHECKSUM_ADDR, 'r')\n",
    "ot_checksum_file_lines = ot_checksum_file.readlines()\n",
    "\n",
    "diff_err_count = 0\n",
    "miss_err_count = 0\n",
    "for line in ot_checksum_file_lines:\n",
    "    array = line.split()\n",
    "    value = array[0].strip()\n",
    "    if \"error\" not in array[1]:\n",
    "        key = str(\"/\".join(array[1].split(\"/\")[-2:]))\n",
    "        if key in dic_download.keys():\n",
    "            if dic_download[key] != value:\n",
    "                diff_err_count += 1 \n",
    "                print(\"[ERROR] File\", key, \"Not identical with OT\")\n",
    "        else:\n",
    "                miss_err_count += 1 \n",
    "                print(\"[ERROR] File\", key, \"Not present\")\n",
    "                \n",
    "print (diff_err_count , \" of file(s) different with OT\" )\n",
    "print (miss_err_count , \" of file(s) missing from OT\" )\n",
    "\n"
   ]
  },
  {
   "cell_type": "markdown",
   "id": "42ca815c-5064-4f45-8647-b42f9f9c45b2",
   "metadata": {},
   "source": [
    "---"
   ]
  },
  {
   "cell_type": "markdown",
   "id": "a5057fdc-115f-4a2d-bcfb-725265a52ff4",
   "metadata": {},
   "source": [
    "### line of record within dir\n"
   ]
  },
  {
   "cell_type": "markdown",
   "id": "dab9b7c1-8150-4432-be96-0fc43a3bfe9c",
   "metadata": {},
   "source": [
    "``` console\n",
    "addr = `pwd`\n",
    "b=(`ls `)\n",
    "\n",
    "for a in ${b[*]}; do\n",
    "    echo $a >> ls3.txt\n",
    "    find $addr$a  -name *.json |xargs   wc -l  | awk '{sum+=$1}END{print sum}' >> ls3.txt\n",
    "done\n",
    "\n",
    "```"
   ]
  }
 ],
 "metadata": {
  "kernelspec": {
   "display_name": "Python 3 (ipykernel)",
   "language": "python",
   "name": "python3"
  },
  "language_info": {
   "codemirror_mode": {
    "name": "ipython",
    "version": 3
   },
   "file_extension": ".py",
   "mimetype": "text/x-python",
   "name": "python",
   "nbconvert_exporter": "python",
   "pygments_lexer": "ipython3",
   "version": "3.10.8"
  }
 },
 "nbformat": 4,
 "nbformat_minor": 5
}
