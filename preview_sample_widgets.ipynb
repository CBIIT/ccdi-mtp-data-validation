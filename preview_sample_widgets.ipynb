{
 "cells": [
  {
   "cell_type": "markdown",
   "metadata": {},
   "source": [
    "# Sample Somatic Alterations Widget Generator\n",
    "2022-11-08 ZD\n",
    "\n",
    "This notebook will input CHoP Somatic Alterations evidence files and generate Excel outputs formatted to mimic MTP widgets.   \n",
    "Input can be either a list of targets (across all diseases) or a list of targets across a single disease."
   ]
  },
  {
   "cell_type": "code",
   "execution_count": null,
   "metadata": {},
   "outputs": [],
   "source": [
    "import pandas as pd"
   ]
  },
  {
   "cell_type": "code",
   "execution_count": null,
   "metadata": {},
   "outputs": [],
   "source": [
    "# Define local path for CHoP data\n",
    "CHOP_VERSION = 'v12pre2-20230406/'\n",
    "CHOP_FOLDER = CHOP_VERSION + 'raw/'\n",
    "OUTPUT_FOLDER = CHOP_VERSION + 'sampleSAwidgets/'\n",
    "\n",
    "# Define jsonl file local paths\n",
    "cnvPath = 'gene-level-cnv-consensus-annotated-mut-freq.jsonl.gz'\n",
    "snvGenePath = 'gene-level-snv-consensus-annotated-mut-freq.jsonl.gz'\n",
    "fusionGenePath = 'putative-oncogene-fused-gene-freq.jsonl.gz'\n",
    "fusionPath = 'putative-oncogene-fusion-freq.jsonl.gz'\n",
    "snvPath = 'variant-level-snv-consensus-annotated-mut-freq.jsonl.gz'"
   ]
  },
  {
   "cell_type": "code",
   "execution_count": null,
   "metadata": {},
   "outputs": [],
   "source": [
    "def load_chop_data(file, folder= CHOP_FOLDER):\n",
    "    \"\"\" Load data from raw datasource jsonl or tsv\n",
    "    files downloaded from CHoP S3 bucket.\"\"\"\n",
    "    \n",
    "    path = folder + file\n",
    "    if '.jsonl' in path:\n",
    "        df = pd.read_json(path, lines=True)\n",
    "    elif '.tsv' in path:\n",
    "        df = pd.read_csv(path, sep='\\t', compression='gzip', na_filter=False, low_memory=False)\n",
    "    else: \n",
    "        print('Unknown filetype:', path)\n",
    "    \n",
    "    print('---')\n",
    "    print('File loaded successfully:', file)\n",
    "    print('Dataframe rows, columns:', df.shape)\n",
    "    return df\n"
   ]
  },
  {
   "cell_type": "code",
   "execution_count": null,
   "metadata": {},
   "outputs": [],
   "source": [
    "# Load JSONL v11 data\n",
    "cnv = load_chop_data(cnvPath)\n",
    "snvGene = load_chop_data(snvGenePath)\n",
    "fusionGene = load_chop_data(fusionGenePath)\n",
    "fusion = load_chop_data(fusionPath)\n",
    "snv = load_chop_data(snvPath)"
   ]
  },
  {
   "cell_type": "code",
   "execution_count": null,
   "metadata": {},
   "outputs": [],
   "source": [
    "# Group evidence dfs into list for iteration\n",
    "dfList = [cnv, snvGene, fusionGene, fusion, snv]\n",
    "\n",
    "# Define target list\n",
    "targetList = ['ALK','BRAF','FLT3','KMT2C','MYCN','PCDHA9']"
   ]
  },
  {
   "cell_type": "code",
   "execution_count": null,
   "metadata": {},
   "outputs": [],
   "source": [
    "def search_sa(df, target, disease='all'):\n",
    "    \"\"\"Generic search for gene symbol and/or disease\n",
    "    within a given dataset. Output df for exploration.\"\"\"\n",
    "\n",
    "    if disease=='all':\n",
    "        df1 = df[df['Gene_symbol'] == target]\n",
    "\n",
    "    else: \n",
    "        df1 = df[\n",
    "            (df['Gene_symbol'] == target) & \n",
    "            (df['Disease'].str.lower() == disease.lower())]\n",
    "\n",
    "    return df1"
   ]
  },
  {
   "cell_type": "code",
   "execution_count": null,
   "metadata": {},
   "outputs": [],
   "source": [
    "def output_sample_sa_widget(dfList:list, targetList:list, disease:str='all', output=OUTPUT_FOLDER):\n",
    "    \"\"\"Outputs Excel file(s) representing expected data within MTP Somatic\n",
    "    Alterations widgets on target page (if no disease is specified) or on \n",
    "    evidence page (if disease is specified). Each tab within output files \n",
    "    represents a tab view within the widget. Note that this queries using\n",
    "    gene symbol and disease names rather than IDs, so some variation is\n",
    "    possible.\"\"\"\n",
    "\n",
    "    for target in targetList:\n",
    "        fileName = output + target + 'SomaticAlterationsDisplay.xlsx'\n",
    "        writer = pd.ExcelWriter(fileName, engine='xlsxwriter')\n",
    "\n",
    "        for df in dfList:\n",
    "            if disease=='all':\n",
    "                df1 = df[df['Gene_symbol'] == target]\n",
    "\n",
    "            else: \n",
    "                df1 = df[\n",
    "                    (df['Gene_symbol'] == target) & \n",
    "                    (df['Disease'].str.lower() == disease.lower())]\n",
    "\n",
    "            df1.to_excel(writer, sheet_name=df.datasourceId[0][0:30], index=False)\n",
    "\n",
    "        writer.save()"
   ]
  },
  {
   "cell_type": "code",
   "execution_count": null,
   "metadata": {},
   "outputs": [],
   "source": [
    "output_sample_sa_widget(dfList, targetList)"
   ]
  }
 ],
 "metadata": {
  "kernelspec": {
   "display_name": "Python 3.8.12 ('base')",
   "language": "python",
   "name": "python3"
  },
  "language_info": {
   "codemirror_mode": {
    "name": "ipython",
    "version": 3
   },
   "file_extension": ".py",
   "mimetype": "text/x-python",
   "name": "python",
   "nbconvert_exporter": "python",
   "pygments_lexer": "ipython3",
   "version": "3.8.12"
  },
  "orig_nbformat": 4,
  "vscode": {
   "interpreter": {
    "hash": "431f20539060e4195af057caf518edb196c7ace9bef336047b9965dbe49805af"
   }
  }
 },
 "nbformat": 4,
 "nbformat_minor": 2
}
