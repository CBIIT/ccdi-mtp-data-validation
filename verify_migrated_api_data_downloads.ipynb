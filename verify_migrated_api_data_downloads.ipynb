{
 "cells": [
  {
   "cell_type": "markdown",
   "metadata": {},
   "source": [
    "# Verify Migrated API Data Downloads\n",
    "2023-07-12 ZD  \n",
    "\n",
    "Verify that the data available as MTP user downloads from the Gene Expression widget are correct. The old downloads pulled a summary file from CHoP's API. After migrating the API server to CBIIT space, we have also changed the data downloads to return the full dataset, rather than summary data, which will allow users to rebuild the plots themselves.  \n",
    "\n",
    "Because the structure of data is very different between the old and new types of downloads, comparisons require transformations. This notebook will compare a sample of old data downloads to new downloads using those transforms. \n",
    "\n",
    "Jira ticket: https://tracker.nci.nih.gov/browse/CCDIMTP-782"
   ]
  },
  {
   "cell_type": "markdown",
   "metadata": {},
   "source": [
    "### Import modules"
   ]
  },
  {
   "cell_type": "code",
   "execution_count": 1,
   "metadata": {},
   "outputs": [],
   "source": [
    "import pandas as pd\n",
    "import os\n",
    "import numpy as np"
   ]
  },
  {
   "cell_type": "markdown",
   "metadata": {},
   "source": [
    "### Proof of Concept:"
   ]
  },
  {
   "cell_type": "code",
   "execution_count": 2,
   "metadata": {},
   "outputs": [],
   "source": [
    "# Set path and load matching set of new and old file\n",
    "df_new_path = 'data/test/plotlyDownloads/newData/OpenPedCanGeneExpression-ENSG00000097007-EFO_0000220-gene-disease-gtex.tsv'\n",
    "df_new = pd.read_csv(df_new_path, sep='\\t')\n",
    "\n",
    "df_old_path = 'data/test/plotlyDownloads/oldData/OpenPedCanGeneExpression-ENSG00000097007-EFO_0000220-gene-disease-gtex.tsv'\n",
    "df_old = pd.read_csv(df_old_path, sep='\\t')"
   ]
  },
  {
   "cell_type": "code",
   "execution_count": 3,
   "metadata": {},
   "outputs": [],
   "source": [
    "# Roll up new data to match old data. Get mean TPM statistic for comparison\n",
    "df_new_grouped = df_new.groupby('xLabel')['tpm'].mean().round(2).reset_index()"
   ]
  },
  {
   "cell_type": "code",
   "execution_count": 4,
   "metadata": {},
   "outputs": [
    {
     "data": {
      "text/plain": [
       "True"
      ]
     },
     "execution_count": 4,
     "metadata": {},
     "output_type": "execute_result"
    }
   ],
   "source": [
    "# Rough check to see if new (derived) and old (provided) Mean TPMs match across all rows\n",
    "# Note that this is dependent upon sorting, so will need improvement\n",
    "all(df_old['tpmMean'] == df_new_grouped['tpm'])"
   ]
  },
  {
   "cell_type": "markdown",
   "metadata": {},
   "source": [
    "Derived values match provided values for the mean TPM of each x-axis grouping. Next step is to test a larger sample."
   ]
  },
  {
   "cell_type": "markdown",
   "metadata": {},
   "source": [
    "### Build workflow for handling data download sets"
   ]
  },
  {
   "cell_type": "code",
   "execution_count": 5,
   "metadata": {},
   "outputs": [],
   "source": [
    "def summarize_new_df(df):\n",
    "    \n",
    "    # Build initial summary df with xLabel columns and TPM Mean\n",
    "    df_summarized = df.groupby('xLabel')['tpm'].mean().round(2).reset_index()\n",
    "    df_summarized = df_summarized.rename(columns={'tpm':'tpmMean'})\n",
    "\n",
    "    # Add column for sample/row counts\n",
    "    df_summarized['boxSampleCount'] = df.groupby('xLabel').size().tolist()\n",
    "\n",
    "    return df_summarized"
   ]
  },
  {
   "cell_type": "code",
   "execution_count": 6,
   "metadata": {},
   "outputs": [],
   "source": [
    "def compare_data(df_summarized, df_old):\n",
    "\n",
    "    # Get only comparison columns from old data\n",
    "    df_old = df_old[['xLabel', 'tpmMean', 'boxSampleCount']]\n",
    "\n",
    "    # Sort data by x-axis label for comparison\n",
    "    df_old = df_old.sort_values(by='xLabel', ascending=True).reset_index(drop=True)\n",
    "    df_summarized = df_summarized.sort_values(by='xLabel', ascending=True).reset_index(drop=True)\n",
    "\n",
    "    # Check for exact match\n",
    "    comparison_result = df_summarized.equals(df_old)\n",
    "\n",
    "    # Check for columns with mismatched values\n",
    "    if not comparison_result:\n",
    "        # Check x-Axis Labels\n",
    "        match_xLabel = all(df_old['xLabel'] == df_summarized['xLabel'])\n",
    "        # Use relative check of TPM mean with tolerance of 0.01 difference\n",
    "        match_TPM = all(np.isclose(a=df_old['tpmMean'], b=df_summarized['tpmMean'], rtol=0.01))\n",
    "        # Check sample counts\n",
    "        match_boxSampleCount = all(df_old['boxSampleCount'] == df_summarized['boxSampleCount'])\n",
    "\n",
    "        # If values still mismatched after tpmMean tolerance, list issues\n",
    "        comparison_result = all([match_xLabel, match_TPM, match_boxSampleCount])\n",
    "        if not comparison_result:\n",
    "            return {\n",
    "                'comparison_result': comparison_result,\n",
    "                'match_xLabel': match_xLabel,\n",
    "                'match_tpmMean': match_tpmMean,\n",
    "                'match_boxSampleCount': match_boxSampleCount\n",
    "                }\n",
    "\n",
    "    return comparison_result"
   ]
  },
  {
   "cell_type": "code",
   "execution_count": 7,
   "metadata": {},
   "outputs": [],
   "source": [
    "def compare_data_download_files(newDataPath, oldDataPath):\n",
    "    new_files = os.listdir(newDataPath)\n",
    "    old_files = os.listdir(oldDataPath)\n",
    "\n",
    "    # Sort the files to ensure consistent order for comparison\n",
    "    new_files.sort()\n",
    "    old_files.sort()\n",
    "\n",
    "    compared_data = []\n",
    "\n",
    "    for new_file, old_file in zip(new_files, old_files):\n",
    "        new_file_path = os.path.join(newDataPath, new_file)\n",
    "        old_file_path = os.path.join(oldDataPath, old_file)\n",
    "\n",
    "        if os.path.isfile(new_file_path) and os.path.isfile(old_file_path):\n",
    "            # Ensure that new_file and old_file have the same filename\n",
    "            if new_file != old_file:\n",
    "                raise ValueError(f\"The filenames {new_file} and {old_file} do not match.\")\n",
    "\n",
    "            # Read the TSV files into DataFrames\n",
    "            df_new = pd.read_csv(new_file_path, delimiter='\\t')\n",
    "            df_old = pd.read_csv(old_file_path, delimiter='\\t')\n",
    "\n",
    "            # Summarize the new data to match format of old data\n",
    "            df_summarized = summarize_new_df(df_new)\n",
    "\n",
    "            # Compare the transformed DataFrame with the old DataFrame\n",
    "            comparison_result = compare_data(df_summarized, df_old)\n",
    "\n",
    "            if type(comparison_result)!=bool:\n",
    "                comparison_result.update({\"file:\": new_file})\n",
    "\n",
    "            # Append the comparison result to the list\n",
    "            compared_data.append(comparison_result)\n",
    "\n",
    "    return compared_data"
   ]
  },
  {
   "cell_type": "markdown",
   "metadata": {},
   "source": [
    "### Run workflow to get results"
   ]
  },
  {
   "cell_type": "code",
   "execution_count": 8,
   "metadata": {},
   "outputs": [
    {
     "name": "stdout",
     "output_type": "stream",
     "text": [
      "Success! New data downloads match old data downloads.\n"
     ]
    }
   ],
   "source": [
    "# Define paths for new and old data directories\n",
    "newDataPath = 'data/test/plotlyDownloads/newData/'\n",
    "oldDataPath = 'data/test/plotlyDownloads/oldData/'\n",
    "\n",
    "# Compare data!\n",
    "results = compare_data_download_files(newDataPath, oldDataPath)\n",
    "\n",
    "# If results are good, say so. If not, list issues\n",
    "if all(results): \n",
    "    print(f\"Success! New data downloads match old data downloads.\")\n",
    "else:\n",
    "    print(f\"Error: Some new data downloads DO NOT match old data downloads.\")\n",
    "    results"
   ]
  }
 ],
 "metadata": {
  "kernelspec": {
   "display_name": "base",
   "language": "python",
   "name": "python3"
  },
  "language_info": {
   "codemirror_mode": {
    "name": "ipython",
    "version": 3
   },
   "file_extension": ".py",
   "mimetype": "text/x-python",
   "name": "python",
   "nbconvert_exporter": "python",
   "pygments_lexer": "ipython3",
   "version": "3.8.12"
  },
  "orig_nbformat": 4
 },
 "nbformat": 4,
 "nbformat_minor": 2
}
